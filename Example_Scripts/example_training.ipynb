{
 "cells": [
  {
   "cell_type": "code",
   "execution_count": 35,
   "metadata": {},
   "outputs": [],
   "source": [
    "\"\"\"\n",
    "A module with functions to load saved networks and train the network for a\n",
    "given number of epochs. Note that after training is completed, the line\n",
    "\n",
    "torch.save(network, 'saved_net.pt')\n",
    "\n",
    "should be run to store the trained network for later use.\n",
    "\"\"\"\n",
    "\n",
    "import torch\n",
    "import LSTM_class\n",
    "import chorales\n",
    "import matplotlib.pyplot as plt\n",
    "import numpy as np\n",
    "import time\n",
    "\n",
    "def get_network():\n",
    "    \"\"\"\n",
    "    A function which interactively asks the user whether a saved network should be used and\n",
    "    depending on the answer, will ask for a file name or generate a new network. A default\n",
    "    filename of saved_net.pt is suggested.\n",
    "    \"\"\"\n",
    "    while True:\n",
    "        resp = str(input('Should loading of a saved network be attempted? [y\\\\n]'))\n",
    "        if resp == 'y':\n",
    "            # Define the LSTM network by loading a saved version or creating a new one\n",
    "            name = str(input('Give the filename or press enter for default (saved_net.pt): '))\n",
    "            if name == '':\n",
    "                name = 'saved_net.pt'\n",
    "            try:\n",
    "                network = torch.load(name)\n",
    "                network.train()\n",
    "                print('Loading saved network...')\n",
    "            except:\n",
    "                print('Unable to load saved network. Creating new network...')\n",
    "                network = LSTM_class.LSTM(input_size = 88, output_size = 88)\n",
    "                network.float()\n",
    "            break\n",
    "        elif resp == 'n':\n",
    "            print('Creating new network...')\n",
    "            network = LSTM_class.LSTM(input_size = 88, output_size = 88)\n",
    "            network.float()\n",
    "            break\n",
    "        else:\n",
    "            print('Sorry, that is not a valid option.')\n",
    "\n",
    "    return network\n",
    "\n",
    "# Prepare data for input into LSTM network\n",
    "# Pull from chorales, then convert to torch.tensors of correct shape\n",
    "def get_chorales_tensors(song):\n",
    "    '''\n",
    "    Takes a one-hot encoded song and returns an input tensor and target tensor\n",
    "    Input: numpy array of shape (88, song_len - 1)\n",
    "    Output: Two torch tensors of shape (song_len - 1, 1, 88)\n",
    "    '''\n",
    "    torch_input = torch.tensor(song[:,:-1],dtype=torch.float).view(song.shape[1] - 1, 1, -1)\n",
    "    torch_target = torch.tensor(song[:,1:],dtype=torch.float).view(song.shape[1] - 1, 1, -1)\n",
    "\n",
    "    return torch_input, torch_target\n",
    "\n",
    "def train(network, loss_fn, optimizer, data, epochs=10):\n",
    "    # Init Loss vector for plotting\n",
    "    losses = np.empty(epochs)\n",
    "\n",
    "    # Start timer\n",
    "    start = time.time()\n",
    "\n",
    "    # Train network\n",
    "    for i in range(epochs):\n",
    "        for song in data:\n",
    "            torch_tests, torch_tests_targets = get_chorales_tensors(song)\n",
    "            network.hidden = network.init_hidden()\n",
    "            out = network.forward(torch_tests)\n",
    "            loss = loss_fn(out, torch_tests_targets.view(-1,88))\n",
    "            optimizer.zero_grad()\n",
    "            loss.backward()\n",
    "            optimizer.step()\n",
    "        losses[i] = loss.item()\n",
    "\n",
    "        # Occasionally print the loss\n",
    "        if i%5 == 0:\n",
    "            print(\"Epoch: \" + str(i) + \"/\" + str(epochs) + \"; Error: \" + str(loss.item()), end='\\r')\n",
    "\n",
    "    end = time.time()\n",
    "    print('Total Duration: ' + str((end - start)/60) + ' minutes')\n",
    "\n",
    "    # Plot of loss as a function of epochs\n",
    "    fig, ax = plt.subplots()\n",
    "    fig.suptitle('Loss Function: ' + str(loss_fn))\n",
    "    ax.set_xlabel('Epoch')\n",
    "    ax.set_ylabel('Error')\n",
    "    ax.plot(losses)\n",
    "    plt.show(block = False)\n"
   ]
  },
  {
   "cell_type": "code",
   "execution_count": 36,
   "metadata": {},
   "outputs": [
    {
     "name": "stdout",
     "output_type": "stream",
     "text": [
      "Should loading of a saved network be attempted? [y\\n]n\n",
      "Creating new network...\n",
      "Total Duration: 0.8910301049550374 minutes\n"
     ]
    },
    {
     "data": {
      "image/png": "[encoded data removed]",
      "text/plain": [
       "<Figure size 432x288 with 1 Axes>"
      ]
     },
     "metadata": {
      "needs_background": "light"
     },
     "output_type": "display_data"
    }
   ],
   "source": [
    "# Define the network\n",
    "network = get_network()\n",
    "\n",
    "# Define the loss function and optimization function\n",
    "loss_library = {\n",
    "'MSELoss': torch.nn.MSELoss(),\n",
    "'L1Loss': torch.nn.L1Loss(),\n",
    "'CrossEntropyLoss': torch.nn.CrossEntropyLoss(),\n",
    "'NLLLoss': torch.nn.NLLLoss()\n",
    "}\n",
    "\n",
    "loss_fn = loss_library['MSELoss'] # Pick loss function by editing key\n",
    "optimizer = torch.optim.SGD(network.parameters(), lr=0.05, momentum=0.5)\n",
    "\n",
    "# Define the training and validation data\n",
    "training_data = chorales.train\n",
    "validation_data = chorales.valid\n",
    "\n",
    "train(network, loss_fn, optimizer, training_data, epochs=10)\n",
    "\n",
    "# Save the network for reuse\n",
    "torch.save(network, 'saved_net.pt')"
   ]
  },
  {
   "cell_type": "code",
   "execution_count": null,
   "metadata": {},
   "outputs": [],
   "source": []
  }
 ],
 "metadata": {
  "kernelspec": {
   "display_name": "Python 3",
   "language": "python",
   "name": "python3"
  },
  "language_info": {
   "codemirror_mode": {
    "name": "ipython",
    "version": 3
   },
   "file_extension": ".py",
   "mimetype": "text/x-python",
   "name": "python",
   "nbconvert_exporter": "python",
   "pygments_lexer": "ipython3",
   "version": "3.7.1"
  }
 },
 "nbformat": 4,
 "nbformat_minor": 2
}
